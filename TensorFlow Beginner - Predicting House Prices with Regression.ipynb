{
 "cells": [
  {
   "cell_type": "markdown",
   "metadata": {},
   "source": [
    "# Task 1: Introduction\n",
    "\n",
    "---\n",
    "\n",
    "For this project, we are going to work on evaluating price of houses given the following features:\n",
    "\n",
    "1. Year of sale of the house\n",
    "2. The age of the house at the time of sale\n",
    "3. Distance from city center\n",
    "4. Number of stores in the locality\n",
    "5. The latitude\n",
    "6. The longitude\n",
    "\n",
    "![Regression](images/regression.png)\n",
    "\n",
    "Note: This notebook uses `python 3` and these packages: `tensorflow`, `pandas`, `matplotlib`, `scikit-learn`."
   ]
  },
  {
   "cell_type": "markdown",
   "metadata": {},
   "source": [
    "## 1.1: Importing Libraries & Helper Functions\n",
    "\n",
    "First of all, we will need to import some libraries and helper functions. This includes TensorFlow and some utility functions that I've written to save time."
   ]
  },
  {
   "cell_type": "code",
   "execution_count": 25,
   "metadata": {},
   "outputs": [
    {
     "name": "stdout",
     "output_type": "stream",
     "text": [
      "Libraries imported.\n"
     ]
    }
   ],
   "source": [
    "import pandas as pd\n",
    "import matplotlib.pyplot as plt\n",
    "import tensorflow as tf\n",
    "from pandas import Series,DataFrame\n",
    "\n",
    "from utils import *\n",
    "from sklearn.model_selection import train_test_split\n",
    "from tensorflow.keras.models import Sequential\n",
    "from tensorflow.keras.layers import Dense, Dropout\n",
    "from tensorflow.keras.callbacks import EarlyStopping, LambdaCallback\n",
    "\n",
    "%matplotlib inline\n",
    "tf.compat.v1.logging.set_verbosity(tf.compat.v1.logging.ERROR)\n",
    "\n",
    "print('Libraries imported.')"
   ]
  },
  {
   "cell_type": "code",
   "execution_count": 17,
   "metadata": {},
   "outputs": [],
   "source": [
    "column_names=['serial','date','age','stores','latitude','longitude','price']"
   ]
  },
  {
   "cell_type": "markdown",
   "metadata": {},
   "source": [
    "## 2.1: Importing the Data\n",
    "\n",
    "The dataset is saved in a `data.csv` file. We will use `pandas` to take a look at some of the rows."
   ]
  },
  {
   "cell_type": "code",
   "execution_count": 44,
   "metadata": {},
   "outputs": [
    {
     "data": {
      "text/html": [
       "<div>\n",
       "<style scoped>\n",
       "    .dataframe tbody tr th:only-of-type {\n",
       "        vertical-align: middle;\n",
       "    }\n",
       "\n",
       "    .dataframe tbody tr th {\n",
       "        vertical-align: top;\n",
       "    }\n",
       "\n",
       "    .dataframe thead th {\n",
       "        text-align: right;\n",
       "    }\n",
       "</style>\n",
       "<table border=\"1\" class=\"dataframe\">\n",
       "  <thead>\n",
       "    <tr style=\"text-align: right;\">\n",
       "      <th></th>\n",
       "      <th>serial</th>\n",
       "      <th>date</th>\n",
       "      <th>age</th>\n",
       "      <th>distance</th>\n",
       "      <th>stores</th>\n",
       "      <th>latitude</th>\n",
       "      <th>longitude</th>\n",
       "      <th>price</th>\n",
       "    </tr>\n",
       "  </thead>\n",
       "  <tbody>\n",
       "    <tr>\n",
       "      <th>0</th>\n",
       "      <td>0</td>\n",
       "      <td>2009</td>\n",
       "      <td>21</td>\n",
       "      <td>9</td>\n",
       "      <td>6</td>\n",
       "      <td>84</td>\n",
       "      <td>121</td>\n",
       "      <td>14264</td>\n",
       "    </tr>\n",
       "    <tr>\n",
       "      <th>1</th>\n",
       "      <td>1</td>\n",
       "      <td>2007</td>\n",
       "      <td>4</td>\n",
       "      <td>2</td>\n",
       "      <td>3</td>\n",
       "      <td>86</td>\n",
       "      <td>121</td>\n",
       "      <td>12032</td>\n",
       "    </tr>\n",
       "    <tr>\n",
       "      <th>2</th>\n",
       "      <td>2</td>\n",
       "      <td>2016</td>\n",
       "      <td>18</td>\n",
       "      <td>3</td>\n",
       "      <td>7</td>\n",
       "      <td>90</td>\n",
       "      <td>120</td>\n",
       "      <td>13560</td>\n",
       "    </tr>\n",
       "    <tr>\n",
       "      <th>3</th>\n",
       "      <td>3</td>\n",
       "      <td>2002</td>\n",
       "      <td>13</td>\n",
       "      <td>2</td>\n",
       "      <td>2</td>\n",
       "      <td>80</td>\n",
       "      <td>128</td>\n",
       "      <td>12029</td>\n",
       "    </tr>\n",
       "    <tr>\n",
       "      <th>4</th>\n",
       "      <td>4</td>\n",
       "      <td>2014</td>\n",
       "      <td>25</td>\n",
       "      <td>5</td>\n",
       "      <td>8</td>\n",
       "      <td>81</td>\n",
       "      <td>122</td>\n",
       "      <td>14157</td>\n",
       "    </tr>\n",
       "    <tr>\n",
       "      <th>...</th>\n",
       "      <td>...</td>\n",
       "      <td>...</td>\n",
       "      <td>...</td>\n",
       "      <td>...</td>\n",
       "      <td>...</td>\n",
       "      <td>...</td>\n",
       "      <td>...</td>\n",
       "      <td>...</td>\n",
       "    </tr>\n",
       "    <tr>\n",
       "      <th>4995</th>\n",
       "      <td>4995</td>\n",
       "      <td>2007</td>\n",
       "      <td>17</td>\n",
       "      <td>6</td>\n",
       "      <td>3</td>\n",
       "      <td>90</td>\n",
       "      <td>125</td>\n",
       "      <td>13539</td>\n",
       "    </tr>\n",
       "    <tr>\n",
       "      <th>4996</th>\n",
       "      <td>4996</td>\n",
       "      <td>2016</td>\n",
       "      <td>7</td>\n",
       "      <td>10</td>\n",
       "      <td>0</td>\n",
       "      <td>85</td>\n",
       "      <td>129</td>\n",
       "      <td>14757</td>\n",
       "    </tr>\n",
       "    <tr>\n",
       "      <th>4997</th>\n",
       "      <td>4997</td>\n",
       "      <td>2017</td>\n",
       "      <td>6</td>\n",
       "      <td>10</td>\n",
       "      <td>5</td>\n",
       "      <td>90</td>\n",
       "      <td>125</td>\n",
       "      <td>14102</td>\n",
       "    </tr>\n",
       "    <tr>\n",
       "      <th>4998</th>\n",
       "      <td>4998</td>\n",
       "      <td>2010</td>\n",
       "      <td>37</td>\n",
       "      <td>3</td>\n",
       "      <td>5</td>\n",
       "      <td>81</td>\n",
       "      <td>128</td>\n",
       "      <td>14313</td>\n",
       "    </tr>\n",
       "    <tr>\n",
       "      <th>4999</th>\n",
       "      <td>4999</td>\n",
       "      <td>2018</td>\n",
       "      <td>9</td>\n",
       "      <td>1</td>\n",
       "      <td>9</td>\n",
       "      <td>90</td>\n",
       "      <td>127</td>\n",
       "      <td>12770</td>\n",
       "    </tr>\n",
       "  </tbody>\n",
       "</table>\n",
       "<p>5000 rows × 8 columns</p>\n",
       "</div>"
      ],
      "text/plain": [
       "      serial  date  age  distance  stores  latitude  longitude  price\n",
       "0          0  2009   21         9       6        84        121  14264\n",
       "1          1  2007    4         2       3        86        121  12032\n",
       "2          2  2016   18         3       7        90        120  13560\n",
       "3          3  2002   13         2       2        80        128  12029\n",
       "4          4  2014   25         5       8        81        122  14157\n",
       "...      ...   ...  ...       ...     ...       ...        ...    ...\n",
       "4995    4995  2007   17         6       3        90        125  13539\n",
       "4996    4996  2016    7        10       0        85        129  14757\n",
       "4997    4997  2017    6        10       5        90        125  14102\n",
       "4998    4998  2010   37         3       5        81        128  14313\n",
       "4999    4999  2018    9         1       9        90        127  12770\n",
       "\n",
       "[5000 rows x 8 columns]"
      ]
     },
     "execution_count": 44,
     "metadata": {},
     "output_type": "execute_result"
    }
   ],
   "source": [
    "df=pd.read_csv('data.csv',names=column_names)\n",
    "df"
   ]
  },
  {
   "cell_type": "markdown",
   "metadata": {},
   "source": [
    "## 2.2: Check Missing Data\n",
    "\n",
    "It's a good practice to check if the data has any missing values. In real world data, this is quite common and must be taken care of before any data pre-processing or model training."
   ]
  },
  {
   "cell_type": "code",
   "execution_count": 19,
   "metadata": {},
   "outputs": [
    {
     "data": {
      "text/plain": [
       "serial       0\n",
       "date         0\n",
       "age          0\n",
       "stores       0\n",
       "latitude     0\n",
       "longitude    0\n",
       "price        0\n",
       "dtype: int64"
      ]
     },
     "execution_count": 19,
     "metadata": {},
     "output_type": "execute_result"
    }
   ],
   "source": [
    "df.isna().sum()"
   ]
  },
  {
   "cell_type": "markdown",
   "metadata": {},
   "source": [
    "# Task 3: Data Normalization"
   ]
  },
  {
   "cell_type": "markdown",
   "metadata": {},
   "source": [
    "## 3.1: Data Normalization\n",
    "\n",
    "We can make it easier for optimization algorithms to find minimas by normalizing the data before training a model."
   ]
  },
  {
   "cell_type": "code",
   "execution_count": 20,
   "metadata": {},
   "outputs": [
    {
     "data": {
      "text/html": [
       "<div>\n",
       "<style scoped>\n",
       "    .dataframe tbody tr th:only-of-type {\n",
       "        vertical-align: middle;\n",
       "    }\n",
       "\n",
       "    .dataframe tbody tr th {\n",
       "        vertical-align: top;\n",
       "    }\n",
       "\n",
       "    .dataframe thead th {\n",
       "        text-align: right;\n",
       "    }\n",
       "</style>\n",
       "<table border=\"1\" class=\"dataframe\">\n",
       "  <thead>\n",
       "    <tr style=\"text-align: right;\">\n",
       "      <th></th>\n",
       "      <th>date</th>\n",
       "      <th>age</th>\n",
       "      <th>stores</th>\n",
       "      <th>latitude</th>\n",
       "      <th>longitude</th>\n",
       "      <th>price</th>\n",
       "    </tr>\n",
       "  </thead>\n",
       "  <tbody>\n",
       "    <tr>\n",
       "      <th>0</th>\n",
       "      <td>0.181384</td>\n",
       "      <td>1.257002</td>\n",
       "      <td>0.345224</td>\n",
       "      <td>-0.307212</td>\n",
       "      <td>-1.260799</td>\n",
       "      <td>0.350088</td>\n",
       "    </tr>\n",
       "    <tr>\n",
       "      <th>1</th>\n",
       "      <td>-1.319118</td>\n",
       "      <td>-0.930610</td>\n",
       "      <td>-0.609312</td>\n",
       "      <td>0.325301</td>\n",
       "      <td>-1.260799</td>\n",
       "      <td>-1.836486</td>\n",
       "    </tr>\n",
       "    <tr>\n",
       "      <th>2</th>\n",
       "      <td>-0.083410</td>\n",
       "      <td>-0.618094</td>\n",
       "      <td>0.663402</td>\n",
       "      <td>1.590328</td>\n",
       "      <td>-1.576456</td>\n",
       "      <td>-0.339584</td>\n",
       "    </tr>\n",
       "    <tr>\n",
       "      <th>3</th>\n",
       "      <td>-0.524735</td>\n",
       "      <td>-0.930610</td>\n",
       "      <td>-0.927491</td>\n",
       "      <td>-1.572238</td>\n",
       "      <td>0.948803</td>\n",
       "      <td>-1.839425</td>\n",
       "    </tr>\n",
       "    <tr>\n",
       "      <th>4</th>\n",
       "      <td>0.534444</td>\n",
       "      <td>0.006938</td>\n",
       "      <td>0.981581</td>\n",
       "      <td>-1.255981</td>\n",
       "      <td>-0.945141</td>\n",
       "      <td>0.245266</td>\n",
       "    </tr>\n",
       "  </tbody>\n",
       "</table>\n",
       "</div>"
      ],
      "text/plain": [
       "       date       age    stores  latitude  longitude     price\n",
       "0  0.181384  1.257002  0.345224 -0.307212  -1.260799  0.350088\n",
       "1 -1.319118 -0.930610 -0.609312  0.325301  -1.260799 -1.836486\n",
       "2 -0.083410 -0.618094  0.663402  1.590328  -1.576456 -0.339584\n",
       "3 -0.524735 -0.930610 -0.927491 -1.572238   0.948803 -1.839425\n",
       "4  0.534444  0.006938  0.981581 -1.255981  -0.945141  0.245266"
      ]
     },
     "execution_count": 20,
     "metadata": {},
     "output_type": "execute_result"
    }
   ],
   "source": [
    "df=df.iloc[:, 1:]\n",
    "df_norm= (df-df.mean())/df.std()\n",
    "df_norm.head()"
   ]
  },
  {
   "cell_type": "markdown",
   "metadata": {},
   "source": [
    "## 3.2: Convert Label Value\n",
    "\n",
    "Because we are using normalized values for the labels, we will get the predictions back from a trained model in the same distribution. So, we need to convert the predicted values back to the original distribution if we want predicted prices."
   ]
  },
  {
   "cell_type": "code",
   "execution_count": 27,
   "metadata": {},
   "outputs": [
    {
     "name": "stdout",
     "output_type": "stream",
     "text": [
      "14263\n"
     ]
    }
   ],
   "source": [
    "y_mean=df['price'].mean()\n",
    "y_std = df['price'].std()\n",
    "\n",
    "def convert_label_value(pred):\n",
    "    return int(pred*y_std+ y_mean)\n",
    "\n",
    "print (convert_label_value (.350088))"
   ]
  },
  {
   "cell_type": "markdown",
   "metadata": {},
   "source": [
    "# Task 4: Create Training and Test Sets"
   ]
  },
  {
   "cell_type": "markdown",
   "metadata": {},
   "source": [
    "## 4.1: Select Features\n",
    "\n",
    "Make sure to remove the column __price__ from the list of features as it is the label and should not be used as a feature."
   ]
  },
  {
   "cell_type": "code",
   "execution_count": 28,
   "metadata": {},
   "outputs": [
    {
     "data": {
      "text/html": [
       "<div>\n",
       "<style scoped>\n",
       "    .dataframe tbody tr th:only-of-type {\n",
       "        vertical-align: middle;\n",
       "    }\n",
       "\n",
       "    .dataframe tbody tr th {\n",
       "        vertical-align: top;\n",
       "    }\n",
       "\n",
       "    .dataframe thead th {\n",
       "        text-align: right;\n",
       "    }\n",
       "</style>\n",
       "<table border=\"1\" class=\"dataframe\">\n",
       "  <thead>\n",
       "    <tr style=\"text-align: right;\">\n",
       "      <th></th>\n",
       "      <th>date</th>\n",
       "      <th>age</th>\n",
       "      <th>stores</th>\n",
       "      <th>latitude</th>\n",
       "      <th>longitude</th>\n",
       "      <th>price</th>\n",
       "    </tr>\n",
       "  </thead>\n",
       "  <tbody>\n",
       "    <tr>\n",
       "      <th>0</th>\n",
       "      <td>0.181384</td>\n",
       "      <td>1.257002</td>\n",
       "      <td>0.345224</td>\n",
       "      <td>-0.307212</td>\n",
       "      <td>-1.260799</td>\n",
       "      <td>0.350088</td>\n",
       "    </tr>\n",
       "    <tr>\n",
       "      <th>1</th>\n",
       "      <td>-1.319118</td>\n",
       "      <td>-0.930610</td>\n",
       "      <td>-0.609312</td>\n",
       "      <td>0.325301</td>\n",
       "      <td>-1.260799</td>\n",
       "      <td>-1.836486</td>\n",
       "    </tr>\n",
       "    <tr>\n",
       "      <th>2</th>\n",
       "      <td>-0.083410</td>\n",
       "      <td>-0.618094</td>\n",
       "      <td>0.663402</td>\n",
       "      <td>1.590328</td>\n",
       "      <td>-1.576456</td>\n",
       "      <td>-0.339584</td>\n",
       "    </tr>\n",
       "    <tr>\n",
       "      <th>3</th>\n",
       "      <td>-0.524735</td>\n",
       "      <td>-0.930610</td>\n",
       "      <td>-0.927491</td>\n",
       "      <td>-1.572238</td>\n",
       "      <td>0.948803</td>\n",
       "      <td>-1.839425</td>\n",
       "    </tr>\n",
       "    <tr>\n",
       "      <th>4</th>\n",
       "      <td>0.534444</td>\n",
       "      <td>0.006938</td>\n",
       "      <td>0.981581</td>\n",
       "      <td>-1.255981</td>\n",
       "      <td>-0.945141</td>\n",
       "      <td>0.245266</td>\n",
       "    </tr>\n",
       "  </tbody>\n",
       "</table>\n",
       "</div>"
      ],
      "text/plain": [
       "       date       age    stores  latitude  longitude     price\n",
       "0  0.181384  1.257002  0.345224 -0.307212  -1.260799  0.350088\n",
       "1 -1.319118 -0.930610 -0.609312  0.325301  -1.260799 -1.836486\n",
       "2 -0.083410 -0.618094  0.663402  1.590328  -1.576456 -0.339584\n",
       "3 -0.524735 -0.930610 -0.927491 -1.572238   0.948803 -1.839425\n",
       "4  0.534444  0.006938  0.981581 -1.255981  -0.945141  0.245266"
      ]
     },
     "execution_count": 28,
     "metadata": {},
     "output_type": "execute_result"
    }
   ],
   "source": [
    "x=df_norm.iloc[: , :6]\n",
    "x.head()"
   ]
  },
  {
   "cell_type": "markdown",
   "metadata": {},
   "source": [
    "## 4.2: Select Labels"
   ]
  },
  {
   "cell_type": "code",
   "execution_count": 29,
   "metadata": {},
   "outputs": [
    {
     "data": {
      "text/plain": [
       "0    0.350088\n",
       "1   -1.836486\n",
       "2   -0.339584\n",
       "3   -1.839425\n",
       "4    0.245266\n",
       "Name: price, dtype: float64"
      ]
     },
     "execution_count": 29,
     "metadata": {},
     "output_type": "execute_result"
    }
   ],
   "source": [
    "y=df_norm.iloc[:, -1]\n",
    "y.head()"
   ]
  },
  {
   "cell_type": "markdown",
   "metadata": {},
   "source": [
    "## 4.3: Feature and Label Values\n",
    "\n",
    "We will need to extract just the numeric values for the features and labels as the TensorFlow model will expect just numeric values as input."
   ]
  },
  {
   "cell_type": "code",
   "execution_count": 30,
   "metadata": {},
   "outputs": [
    {
     "name": "stdout",
     "output_type": "stream",
     "text": [
      "features array shape:  (5000, 6)\n",
      "labels array shape:  (5000,)\n"
     ]
    }
   ],
   "source": [
    "x_arr=x.values\n",
    "y_arr=y.values\n",
    "\n",
    "print('features array shape: ',x_arr.shape)\n",
    "print('labels array shape: ',y_arr.shape)"
   ]
  },
  {
   "cell_type": "markdown",
   "metadata": {},
   "source": [
    "## 4.4: Train and Test Split\n",
    "\n",
    "We will keep some part of the data aside as a __test__ set. The model will not use this set during training and it will be used only for checking the performance of the model in trained and un-trained states. This way, we can make sure that we are going in the right direction with our model training."
   ]
  },
  {
   "cell_type": "code",
   "execution_count": 65,
   "metadata": {},
   "outputs": [
    {
     "name": "stdout",
     "output_type": "stream",
     "text": [
      "Training Set:  (4750, 6) (4750,)\n",
      "Test set  (250, 6) (250,)\n"
     ]
    }
   ],
   "source": [
    "x_train, x_test, y_train, y_test= train_test_split(x_arr, y_arr, test_size=0.05, random_state=0)\n",
    "print('Training Set: ', x_train.shape, y_train.shape)\n",
    "print('Test set ',x_test.shape , y_test.shape)\n",
    "#y_test"
   ]
  },
  {
   "cell_type": "markdown",
   "metadata": {},
   "source": [
    "# Task 5: Create the Model"
   ]
  },
  {
   "cell_type": "markdown",
   "metadata": {},
   "source": [
    "## 5.1: Create the Model\n",
    "\n",
    "Let's write a function that returns an untrained model of a certain architecture."
   ]
  },
  {
   "cell_type": "code",
   "execution_count": 32,
   "metadata": {},
   "outputs": [
    {
     "name": "stdout",
     "output_type": "stream",
     "text": [
      "Model: \"sequential\"\n",
      "_________________________________________________________________\n",
      "Layer (type)                 Output Shape              Param #   \n",
      "=================================================================\n",
      "dense (Dense)                (None, 10)                70        \n",
      "_________________________________________________________________\n",
      "dense_1 (Dense)              (None, 20)                220       \n",
      "_________________________________________________________________\n",
      "dense_2 (Dense)              (None, 5)                 105       \n",
      "_________________________________________________________________\n",
      "dense_3 (Dense)              (None, 1)                 6         \n",
      "=================================================================\n",
      "Total params: 401\n",
      "Trainable params: 401\n",
      "Non-trainable params: 0\n",
      "_________________________________________________________________\n"
     ]
    }
   ],
   "source": [
    "def get_model():\n",
    "    model= Sequential([\n",
    "        Dense(10, input_shape=(6,) , activation='relu'),\n",
    "        Dense(20, activation='relu'),\n",
    "        Dense(5, activation='relu'),\n",
    "        Dense(1)\n",
    "    ])\n",
    "    model.compile(\n",
    "    loss='mse',\n",
    "    optimizer='adam'\n",
    "    )\n",
    "    return model\n",
    "get_model().summary()"
   ]
  },
  {
   "cell_type": "markdown",
   "metadata": {},
   "source": [
    "# Task 6: Model Training"
   ]
  },
  {
   "cell_type": "markdown",
   "metadata": {},
   "source": [
    "## 6.1: Model Training\n",
    "\n",
    "We can use an `EarlyStopping` callback from Keras to stop the model training if the validation loss stops decreasing for a few epochs."
   ]
  },
  {
   "cell_type": "code",
   "execution_count": 33,
   "metadata": {},
   "outputs": [
    {
     "name": "stdout",
     "output_type": "stream",
     "text": [
      "Train on 4750 samples, validate on 250 samples\n",
      "Epoch 1/1000\n",
      "4750/4750 [==============================] - 2s 380us/sample - loss: 0.2657 - val_loss: 0.0537\n",
      "Epoch 2/1000\n",
      "4750/4750 [==============================] - 0s 75us/sample - loss: 0.0396 - val_loss: 0.0247\n",
      "Epoch 3/1000\n",
      "4750/4750 [==============================] - 0s 77us/sample - loss: 0.0191 - val_loss: 0.0134\n",
      "Epoch 4/1000\n",
      "4750/4750 [==============================] - 0s 76us/sample - loss: 0.0104 - val_loss: 0.0076\n",
      "Epoch 5/1000\n",
      "4750/4750 [==============================] - 0s 75us/sample - loss: 0.0060 - val_loss: 0.0047\n",
      "Epoch 6/1000\n",
      "4750/4750 [==============================] - 0s 78us/sample - loss: 0.0036 - val_loss: 0.0030\n",
      "Epoch 7/1000\n",
      "4750/4750 [==============================] - 0s 78us/sample - loss: 0.0025 - val_loss: 0.0021\n",
      "Epoch 8/1000\n",
      "4750/4750 [==============================] - 0s 77us/sample - loss: 0.0019 - val_loss: 0.0015\n",
      "Epoch 9/1000\n",
      "4750/4750 [==============================] - 0s 75us/sample - loss: 0.0015 - val_loss: 0.0013\n",
      "Epoch 10/1000\n",
      "4750/4750 [==============================] - 0s 78us/sample - loss: 0.0012 - val_loss: 9.9663e-04\n",
      "Epoch 11/1000\n",
      "4750/4750 [==============================] - 0s 81us/sample - loss: 0.0010 - val_loss: 8.2233e-04\n",
      "Epoch 12/1000\n",
      "4750/4750 [==============================] - 0s 79us/sample - loss: 8.7026e-04 - val_loss: 6.9708e-04\n",
      "Epoch 13/1000\n",
      "4750/4750 [==============================] - 0s 79us/sample - loss: 7.6450e-04 - val_loss: 6.5877e-04\n",
      "Epoch 14/1000\n",
      "4750/4750 [==============================] - 0s 80us/sample - loss: 6.5034e-04 - val_loss: 5.2404e-04\n",
      "Epoch 15/1000\n",
      "4750/4750 [==============================] - 0s 79us/sample - loss: 5.5677e-04 - val_loss: 4.7181e-04\n",
      "Epoch 16/1000\n",
      "4750/4750 [==============================] - 0s 78us/sample - loss: 5.0733e-04 - val_loss: 3.9557e-04\n",
      "Epoch 17/1000\n",
      "4750/4750 [==============================] - 0s 78us/sample - loss: 4.3083e-04 - val_loss: 3.3851e-04\n",
      "Epoch 18/1000\n",
      "4750/4750 [==============================] - 0s 79us/sample - loss: 3.7422e-04 - val_loss: 2.9348e-04\n",
      "Epoch 19/1000\n",
      "4750/4750 [==============================] - 0s 79us/sample - loss: 3.2737e-04 - val_loss: 3.0463e-04\n",
      "Epoch 20/1000\n",
      "4750/4750 [==============================] - 0s 77us/sample - loss: 2.8769e-04 - val_loss: 2.5203e-04\n",
      "Epoch 21/1000\n",
      "4750/4750 [==============================] - 0s 80us/sample - loss: 2.5436e-04 - val_loss: 2.1845e-04\n",
      "Epoch 22/1000\n",
      "4750/4750 [==============================] - 0s 79us/sample - loss: 2.2014e-04 - val_loss: 1.9320e-04\n",
      "Epoch 23/1000\n",
      "4750/4750 [==============================] - ETA: 0s - loss: 1.9918e-0 - 0s 80us/sample - loss: 1.9500e-04 - val_loss: 1.6089e-04\n",
      "Epoch 24/1000\n",
      "4750/4750 [==============================] - 0s 75us/sample - loss: 1.7330e-04 - val_loss: 1.4480e-04\n",
      "Epoch 25/1000\n",
      "4750/4750 [==============================] - 0s 75us/sample - loss: 1.5243e-04 - val_loss: 1.3959e-04\n",
      "Epoch 26/1000\n",
      "4750/4750 [==============================] - 0s 76us/sample - loss: 1.3652e-04 - val_loss: 1.1287e-04\n",
      "Epoch 27/1000\n",
      "4750/4750 [==============================] - 0s 77us/sample - loss: 1.2275e-04 - val_loss: 9.8669e-05\n",
      "Epoch 28/1000\n",
      "4750/4750 [==============================] - 0s 77us/sample - loss: 1.0803e-04 - val_loss: 8.9399e-05\n",
      "Epoch 29/1000\n",
      "4750/4750 [==============================] - 0s 76us/sample - loss: 9.6937e-05 - val_loss: 8.1601e-05\n",
      "Epoch 30/1000\n",
      "4750/4750 [==============================] - 0s 75us/sample - loss: 8.9085e-05 - val_loss: 7.5239e-05\n",
      "Epoch 31/1000\n",
      "4750/4750 [==============================] - 0s 75us/sample - loss: 7.7998e-05 - val_loss: 7.5127e-05\n",
      "Epoch 32/1000\n",
      "4750/4750 [==============================] - 0s 80us/sample - loss: 7.2212e-05 - val_loss: 6.5860e-05\n",
      "Epoch 33/1000\n",
      "4750/4750 [==============================] - 0s 101us/sample - loss: 6.6058e-05 - val_loss: 6.2269e-05\n",
      "Epoch 34/1000\n",
      "4750/4750 [==============================] - 0s 93us/sample - loss: 5.9416e-05 - val_loss: 5.8692e-05\n",
      "Epoch 35/1000\n",
      "4750/4750 [==============================] - 0s 92us/sample - loss: 5.5621e-05 - val_loss: 5.5153e-05\n",
      "Epoch 36/1000\n",
      "4750/4750 [==============================] - 0s 94us/sample - loss: 5.1773e-05 - val_loss: 4.9592e-05\n",
      "Epoch 37/1000\n",
      "4750/4750 [==============================] - 0s 104us/sample - loss: 5.1127e-05 - val_loss: 4.8366e-05\n",
      "Epoch 38/1000\n",
      "4750/4750 [==============================] - 0s 103us/sample - loss: 4.9361e-05 - val_loss: 4.2543e-05\n",
      "Epoch 39/1000\n",
      "4750/4750 [==============================] - 0s 88us/sample - loss: 3.8691e-05 - val_loss: 3.4785e-05\n",
      "Epoch 40/1000\n",
      "4750/4750 [==============================] - 0s 93us/sample - loss: 3.8904e-05 - val_loss: 4.2947e-05\n",
      "Epoch 41/1000\n",
      "4750/4750 [==============================] - 0s 89us/sample - loss: 3.7239e-05 - val_loss: 2.7973e-05\n",
      "Epoch 42/1000\n",
      "4750/4750 [==============================] - 0s 74us/sample - loss: 3.2558e-05 - val_loss: 4.4884e-05\n",
      "Epoch 43/1000\n",
      "4750/4750 [==============================] - 0s 75us/sample - loss: 2.9893e-05 - val_loss: 3.0721e-05\n",
      "Epoch 44/1000\n",
      "4750/4750 [==============================] - 0s 91us/sample - loss: 2.8665e-05 - val_loss: 2.9598e-05\n",
      "Epoch 45/1000\n",
      "4750/4750 [==============================] - 0s 80us/sample - loss: 2.6728e-05 - val_loss: 2.3060e-05\n",
      "Epoch 46/1000\n",
      "4750/4750 [==============================] - 0s 99us/sample - loss: 2.2791e-05 - val_loss: 2.4187e-05\n",
      "Epoch 47/1000\n",
      "4750/4750 [==============================] - 0s 78us/sample - loss: 2.4173e-05 - val_loss: 2.0955e-05\n",
      "Epoch 48/1000\n",
      "4750/4750 [==============================] - 0s 74us/sample - loss: 2.7693e-05 - val_loss: 3.9857e-05\n",
      "Epoch 49/1000\n",
      "4750/4750 [==============================] - 0s 75us/sample - loss: 2.1448e-05 - val_loss: 2.1526e-05\n",
      "Epoch 50/1000\n",
      "4750/4750 [==============================] - 0s 75us/sample - loss: 2.2198e-05 - val_loss: 1.9662e-05\n",
      "Epoch 51/1000\n",
      "4750/4750 [==============================] - 0s 98us/sample - loss: 1.8078e-05 - val_loss: 2.1671e-05\n",
      "Epoch 52/1000\n",
      "4750/4750 [==============================] - 0s 88us/sample - loss: 2.5920e-05 - val_loss: 1.7559e-05\n",
      "Epoch 53/1000\n",
      "4750/4750 [==============================] - 0s 77us/sample - loss: 2.3817e-05 - val_loss: 1.4513e-05\n",
      "Epoch 54/1000\n",
      "4750/4750 [==============================] - 0s 81us/sample - loss: 1.6458e-05 - val_loss: 1.7879e-05\n",
      "Epoch 55/1000\n",
      "4750/4750 [==============================] - 0s 91us/sample - loss: 2.2868e-05 - val_loss: 1.1957e-05\n",
      "Epoch 56/1000\n",
      "4750/4750 [==============================] - 0s 97us/sample - loss: 1.6025e-05 - val_loss: 1.1746e-05\n",
      "Epoch 57/1000\n",
      "4750/4750 [==============================] - 0s 102us/sample - loss: 1.3976e-05 - val_loss: 9.5257e-06\n",
      "Epoch 58/1000\n",
      "4750/4750 [==============================] - 0s 91us/sample - loss: 1.4524e-05 - val_loss: 4.9011e-05\n",
      "Epoch 59/1000\n",
      "4750/4750 [==============================] - 0s 91us/sample - loss: 1.7221e-05 - val_loss: 7.8453e-06\n",
      "Epoch 60/1000\n",
      "4750/4750 [==============================] - 0s 80us/sample - loss: 2.5926e-05 - val_loss: 4.8108e-05\n",
      "Epoch 61/1000\n",
      "4750/4750 [==============================] - 0s 83us/sample - loss: 2.8179e-05 - val_loss: 1.3179e-05\n",
      "Epoch 62/1000\n",
      "4750/4750 [==============================] - 0s 81us/sample - loss: 7.6187e-06 - val_loss: 1.2900e-05\n",
      "Epoch 63/1000\n",
      "4750/4750 [==============================] - 1s 115us/sample - loss: 8.4046e-06 - val_loss: 7.6473e-06\n",
      "Epoch 64/1000\n",
      "4750/4750 [==============================] - 0s 103us/sample - loss: 8.7670e-06 - val_loss: 6.1033e-06\n",
      "Epoch 65/1000\n",
      "4750/4750 [==============================] - 0s 79us/sample - loss: 7.2716e-06 - val_loss: 9.9103e-06\n",
      "Epoch 66/1000\n",
      "4750/4750 [==============================] - 0s 79us/sample - loss: 7.3909e-06 - val_loss: 5.2200e-06\n",
      "Epoch 67/1000\n",
      "4750/4750 [==============================] - 0s 80us/sample - loss: 9.5205e-06 - val_loss: 1.4486e-05\n",
      "Epoch 68/1000\n",
      "4750/4750 [==============================] - 1s 110us/sample - loss: 9.0356e-06 - val_loss: 1.3860e-05\n",
      "Epoch 69/1000\n",
      "4750/4750 [==============================] - 1s 139us/sample - loss: 9.3911e-06 - val_loss: 8.0852e-06\n",
      "Epoch 70/1000\n",
      "4750/4750 [==============================] - 0s 103us/sample - loss: 1.6269e-05 - val_loss: 1.4741e-05\n",
      "Epoch 71/1000\n"
     ]
    },
    {
     "name": "stdout",
     "output_type": "stream",
     "text": [
      "4750/4750 [==============================] - 1s 114us/sample - loss: 1.2780e-05 - val_loss: 4.5083e-06\n",
      "Epoch 72/1000\n",
      "4750/4750 [==============================] - 0s 96us/sample - loss: 6.4884e-06 - val_loss: 2.0354e-05\n",
      "Epoch 73/1000\n",
      "4750/4750 [==============================] - 1s 135us/sample - loss: 6.5261e-06 - val_loss: 4.0492e-06\n",
      "Epoch 74/1000\n",
      "4750/4750 [==============================] - 1s 122us/sample - loss: 5.8408e-06 - val_loss: 1.1123e-05\n",
      "Epoch 75/1000\n",
      "4750/4750 [==============================] - 1s 126us/sample - loss: 1.8148e-05 - val_loss: 3.7502e-06\n",
      "Epoch 76/1000\n",
      "4750/4750 [==============================] - 1s 123us/sample - loss: 8.1109e-06 - val_loss: 6.1838e-06\n",
      "Epoch 77/1000\n",
      "4750/4750 [==============================] - 0s 98us/sample - loss: 3.3824e-06 - val_loss: 3.7888e-06\n",
      "Epoch 78/1000\n",
      "4750/4750 [==============================] - 0s 88us/sample - loss: 3.8794e-06 - val_loss: 5.6565e-06\n",
      "Epoch 79/1000\n",
      "4750/4750 [==============================] - 0s 91us/sample - loss: 1.3848e-05 - val_loss: 3.7922e-06\n",
      "Epoch 80/1000\n",
      "4750/4750 [==============================] - 0s 90us/sample - loss: 1.2137e-05 - val_loss: 1.1240e-04\n"
     ]
    }
   ],
   "source": [
    "es_cb = EarlyStopping(monitor='val_loss', patience=5)\n",
    "\n",
    "model=get_model()\n",
    "preds_on_untrained = model.predict(x_test)\n",
    "\n",
    "history=model.fit(\n",
    "    x_train, y_train, validation_data = (x_test, y_test),\n",
    "    epochs=1000, callbacks = [es_cb]\n",
    ")"
   ]
  },
  {
   "cell_type": "markdown",
   "metadata": {},
   "source": [
    "## 6.2: Plot Training and Validation Loss\n",
    "\n",
    "Let's use the `plot_loss` helper function to take a look training and validation loss."
   ]
  },
  {
   "cell_type": "code",
   "execution_count": 34,
   "metadata": {},
   "outputs": [
    {
     "data": {
      "image/png": "[encoded data removed]",
      "text/plain": [
       "<Figure size 576x576 with 1 Axes>"
      ]
     },
     "metadata": {
      "needs_background": "light"
     },
     "output_type": "display_data"
    }
   ],
   "source": [
    "plot_loss(history)"
   ]
  },
  {
   "cell_type": "markdown",
   "metadata": {},
   "source": [
    "# Task 7: Predictions"
   ]
  },
  {
   "cell_type": "markdown",
   "metadata": {},
   "source": [
    "## 7.1: Plot Raw Predictions\n",
    "\n",
    "Let's use the `compare_predictions` helper function to compare predictions from the model when it was untrained and when it was trained."
   ]
  },
  {
   "cell_type": "code",
   "execution_count": 35,
   "metadata": {},
   "outputs": [
    {
     "data": {
      "image/png": "[encoded data removed]",
      "text/plain": [
       "<Figure size 576x576 with 1 Axes>"
      ]
     },
     "metadata": {
      "needs_background": "light"
     },
     "output_type": "display_data"
    }
   ],
   "source": [
    "preds_on_trained =  model.predict(x_test)\n",
    "compare_predictions(preds_on_untrained, preds_on_trained,y_test)"
   ]
  },
  {
   "cell_type": "markdown",
   "metadata": {},
   "source": [
    "## 7.2: Plot Price Predictions\n",
    "\n",
    "The plot for price predictions and raw predictions will look the same with just one difference: The x and y axis scale is changed."
   ]
  },
  {
   "cell_type": "code",
   "execution_count": 67,
   "metadata": {},
   "outputs": [],
   "source": [
    "price_untrained= [convert_label_value(y) for y in preds_on_untrained]\n",
    "price_train=[convert_label_value(x) for x in preds_on_trained]"
   ]
  },
  {
   "cell_type": "code",
   "execution_count": 69,
   "metadata": {},
   "outputs": [
    {
     "data": {
      "text/plain": [
       "<bound method NDFrame.head of          0\n",
       "0    13361\n",
       "1    13061\n",
       "2    15306\n",
       "3    14863\n",
       "4    13346\n",
       "..     ...\n",
       "245  12882\n",
       "246  15021\n",
       "247  13839\n",
       "248  14107\n",
       "249  15671\n",
       "\n",
       "[250 rows x 1 columns]>"
      ]
     },
     "execution_count": 69,
     "metadata": {},
     "output_type": "execute_result"
    }
   ],
   "source": [
    "lst=pd.DataFrame(price_train)\n",
    "lst.head"
   ]
  },
  {
   "cell_type": "code",
   "execution_count": 68,
   "metadata": {},
   "outputs": [
    {
     "data": {
      "text/plain": [
       "<bound method NDFrame.head of          0\n",
       "0    13960\n",
       "1    13764\n",
       "2    13989\n",
       "3    14066\n",
       "4    14070\n",
       "..     ...\n",
       "245  13955\n",
       "246  14023\n",
       "247  13993\n",
       "248  14240\n",
       "249  14149\n",
       "\n",
       "[250 rows x 1 columns]>"
      ]
     },
     "execution_count": 68,
     "metadata": {},
     "output_type": "execute_result"
    }
   ],
   "source": [
    "lst2=pd.DataFrame(price_untrained)\n",
    "lst2.head"
   ]
  },
  {
   "cell_type": "code",
   "execution_count": null,
   "metadata": {},
   "outputs": [],
   "source": []
  }
 ],
 "metadata": {
  "kernelspec": {
   "display_name": "Python 3",
   "language": "python",
   "name": "python3"
  },
  "language_info": {
   "codemirror_mode": {
    "name": "ipython",
    "version": 3
   },
   "file_extension": ".py",
   "mimetype": "text/x-python",
   "name": "python",
   "nbconvert_exporter": "python",
   "pygments_lexer": "ipython3",
   "version": "3.7.7"
  }
 },
 "nbformat": 4,
 "nbformat_minor": 2
}
